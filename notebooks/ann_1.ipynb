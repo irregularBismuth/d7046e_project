{
 "cells": [
  {
   "cell_type": "code",
   "execution_count": null,
   "metadata": {},
   "outputs": [],
   "source": []
  },
  {
   "cell_type": "code",
   "execution_count": 8,
   "metadata": {},
   "outputs": [
    {
     "name": "stdout",
     "output_type": "stream",
     "text": [
      "File 'downloaded.zip' already exists. Skipping download.\n"
     ]
    }
   ],
   "source": [
    "import numpy as np\n",
    "import torch\n",
    "import gdown\n",
    "import os\n",
    "\n",
    "def download_dataset():\n",
    "    file_id = \"19MBh9JIJTxYIPAeO7G5RML5_ddjJ1Cpa\"\n",
    "    output_path = \"downloaded.zip\"\n",
    "\n",
    "    if not os.path.exists(output_path):\n",
    "        print(f\"File '{output_path}' not found. Downloading...\")\n",
    "        gdown.download(f\"https://drive.google.com/uc?export=download&id={file_id}\", output_path, quiet=False)\n",
    "        print(\"Download complete!\")\n",
    "    else:\n",
    "        print(f\"File '{output_path}' already exists. Skipping download.\")\n",
    "\n",
    "download_dataset()\n",
    "\n"
   ]
  }
 ],
 "metadata": {
  "kernelspec": {
   "display_name": "Python 3",
   "language": "python",
   "name": "python3"
  },
  "language_info": {
   "codemirror_mode": {
    "name": "ipython",
    "version": 3
   },
   "file_extension": ".py",
   "mimetype": "text/x-python",
   "name": "python",
   "nbconvert_exporter": "python",
   "pygments_lexer": "ipython3",
   "version": "3.10.12"
  }
 },
 "nbformat": 4,
 "nbformat_minor": 2
}
