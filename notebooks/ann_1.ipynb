{
 "cells": [
  {
   "cell_type": "code",
   "execution_count": null,
   "metadata": {},
   "outputs": [
    {
     "name": "stdout",
     "output_type": "stream",
     "text": [
      "/bin/python3\n"
     ]
    },
    {
     "name": "stderr",
     "output_type": "stream",
     "text": [
      "Downloading...\n",
      "From: https://drive.google.com/uc?export=download&id=19MBh9JIJTxYIPAeO7G5RML5_ddjJ1Cpa\n",
      "To: /home/irregular/d7046e_ann_project/notebooks/downloaded.zip\n",
      "100%|██████████| 4.79M/4.79M [00:00<00:00, 12.8MB/s]\n"
     ]
    },
    {
     "data": {
      "text/plain": [
       "'downloaded.zip'"
      ]
     },
     "execution_count": 2,
     "metadata": {},
     "output_type": "execute_result"
    }
   ],
   "source": [
    "import numpy as np\n",
    "import torch \n",
    "import gdown\n",
    "file_id = \"19MBh9JIJTxYIPAeO7G5RML5_ddjJ1Cpa\"\n",
    "output_path = \"downloaded.zip\" \n",
    "gdown.download(f\"https://drive.google.com/uc?export=download&id={file_id}\", output_path, quiet=False)"
   ]
  }
 ],
 "metadata": {
  "kernelspec": {
   "display_name": "Python 3",
   "language": "python",
   "name": "python3"
  },
  "language_info": {
   "codemirror_mode": {
    "name": "ipython",
    "version": 3
   },
   "file_extension": ".py",
   "mimetype": "text/x-python",
   "name": "python",
   "nbconvert_exporter": "python",
   "pygments_lexer": "ipython3",
   "version": "3.10.12"
  }
 },
 "nbformat": 4,
 "nbformat_minor": 2
}
